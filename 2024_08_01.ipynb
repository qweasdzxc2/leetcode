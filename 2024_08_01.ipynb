{
 "cells": [
  {
   "cell_type": "markdown",
   "metadata": {},
   "source": [
    "239 滑动窗口最大值\n",
    "===\n",
    "给你一个整数数组 nums，有一个大小为 k 的滑动窗口从数组的最左侧移动到数组的最右侧。你只可以看到在滑动窗口内的 k 个数字。滑动窗口每次只向右移动一位。\n",
    "\n",
    "返回 滑动窗口中的最大值 。\n",
    "\n",
    "题解\n",
    "---\n",
    "- 考虑单调队列解法，队列deque存储nums数组元素的下标，数组result存储需要返回的窗口最大值\n",
    "- 遍历数组nums，当队列deque不为空时\n",
    "    - 若队列中队首元素范围不在[i - k + 1, i]，则说明已经不在滑动窗口中，不能作为窗口最大值，应当移出队列\n",
    "    - 通过从后往前遍历队列元素\n",
    "\n",
    "      当数组元素大于遍历到的元素时，依次移除队列元素，直到队列中的元素都大于将要存入的数组元素\n",
    "      \n",
    "      当数组元素小于队列最小元素（即队列尾的元素），直接加入队尾即可\n",
    "- 因为单调，当i增长到符合第一个k范围的时候，每滑动一步都将队列头节点放入结果就行了"
   ]
  },
  {
   "cell_type": "markdown",
   "metadata": {},
   "source": [
    "347 前k个高频元素\n",
    "===\n",
    "给你一个整数数组 nums 和一个整数 k ，请你返回其中出现频率前 k 高的元素。你可以按 任意顺序 返回答案\n",
    "\n",
    "题解1 直接调用java内置函数排序解法\n",
    "---\n",
    "- 利用哈希集合的特性\n",
    "- 遍历数组nums，键值对的key是数组元素，value是出现次数，由于是哈希集合不会出现重复的key\n",
    "- 使用 Java 的 ArrayList 和 Map.Entry 来创建一个包含 Map 中所有键值对的 ArrayList，根据value进行排序\n",
    "    - 根据 value 进行排序\n",
    "    - ArrayList<Map.Entry<Integer, Integer>> list = new ArrayList(map.entrySet());\n",
    "    - list.sort((a, b) -> b.getValue() - a.getValue());\n",
    "- 遍历ArrayList集合获取到前k个的key\n",
    "\n",
    "题解2 桶排序\n",
    "---\n",
    "- 利用哈希集合的特性\n",
    "- 遍历数组nums，键值对的key是数组元素，value是出现次数，由于是哈希集合不会出现重复的key\n",
    "- 将出现次数作为数组下标，存入对应的键值对\n",
    "- 倒序遍历排序数组，获取前k个元素存入结果数组"
   ]
  }
 ],
 "metadata": {
  "language_info": {
   "name": "python"
  }
 },
 "nbformat": 4,
 "nbformat_minor": 2
}
