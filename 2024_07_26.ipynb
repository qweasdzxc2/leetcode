{
 "cells": [
  {
   "cell_type": "markdown",
   "metadata": {},
   "source": [
    "1 两数之和\n",
    "===\n",
    "给定一个整数数组 nums 和一个整数目标值 target，请你在该数组中找出 和为目标值 target  的那 两个 整数，并返回它们的数组下标。\n",
    "\n",
    "你可以假设每种输入只会对应一个答案。但是，数组中同一个元素在答案里不能重复出现。\n",
    "\n",
    "你可以按任意顺序返回答案。\n",
    "\n",
    "题解1 双层for循环\n",
    "---\n",
    "- 根据nums的每一个元素，遍历除了本元素之外的整个数组，找到是否有符合条件的元素\n",
    "- 找到则返回两个元素的下标\n",
    "\n",
    "题解2 哈希表\n",
    "---\n",
    "- 声明map集合，key为数组元素值，value为数组索引下标\n",
    "- 由于只需要取两个数计算是否和为target，重复元素中的一个进入map集合成为key后，另一个计算时会直接匹配到map中已存在的键值对，不会出现key重复的问题\n",
    "- 遍历数组nums，如果target-nums[i]的元素在map集合出现，则返回这个元素的下标和map集合中元素的value组成的集合\n",
    "- 否则这个元素的值作为key，下标作为value组成键值对加入map集合"
   ]
  },
  {
   "cell_type": "markdown",
   "metadata": {},
   "source": [
    "454 四数相加 II\n",
    "===\n",
    "给你四个整数数组 nums1、nums2、nums3 和 nums4 ，数组长度都是 n ，请你计算有多少个元组 (i, j, k, l) 能满足：\n",
    "\n",
    "0 <= i, j, k, l < n\n",
    "nums1[i] + nums2[j] + nums3[k] + nums4[l] == 0\n",
    "\n",
    "题解\n",
    "---\n",
    "- 数组分组，对数组nums1和nums2双循环遍历，获得所有元素两两相加的和作为key，出现次数作为value组成键值对，存入map集合\n",
    "- 双循环遍历nums3和nums4，在map集合中寻找符合条件的key，记录次数即可\n",
    "- 返回等于0的次数即是满足条件的元组个数"
   ]
  },
  {
   "cell_type": "markdown",
   "metadata": {},
   "source": [
    "383 赎金信\n",
    "===\n",
    "给你两个字符串：ransomNote 和 magazine ，判断 ransomNote 能不能由 magazine 里面的字符构成。\n",
    "\n",
    "如果可以，返回 true ；否则返回 false 。\n",
    "\n",
    "magazine 中的每个字符只能在 ransomNote 中使用一次。\n",
    "\n",
    "题解\n",
    "---\n",
    "- 遍历magazine，将字符作为key，字符出现次数作为value存入键值对，将键值对存入map集合\n",
    "- 遍历ransomNote，当其中的字符在magazine未出现或出现次数已为0（即不能再使用）时，返回false\n",
    "- 出现次数大于0的情况下，将字符对应的value值减一\n",
    "- 遍历完ransomNote后返回true"
   ]
  },
  {
   "cell_type": "markdown",
   "metadata": {},
   "source": [
    "15 三数之和\n",
    "===\n",
    "给你一个整数数组 nums ，判断是否存在三元组 [nums[i], nums[j], nums[k]] 满足 i != j、i != k 且 j != k ，同时还满足 nums[i] + nums[j] + nums[k] == 0 。请你返回所有和为 0 且不重复的三元组。\n",
    "\n",
    "注意：答案中不可以包含重复的三元组。\n",
    "\n",
    "题解\n",
    "---\n",
    "- 对数组进行从小到大的排序\n",
    "- 遍历排序后的数组，当前元素为nums[i]，遍历时当出现nums[i]大于0时，说明不可能出现等于0的元组了，可以直接返回已有的集合，即是最终结果\n",
    "- 嵌套循环，双指针分别为j和k，其中j指向i的下一个位置，即i+1，k指向数组最后一个元素\n",
    "- 问题转为，获取从数组i+1位置到数组尾，满足条件“两数之和为（-nums[i]）”的两个数\n",
    "- 以上遍历需要对i和j位置的元素去重，而k由于i，j的元素已去重，则无需去重\n",
    "- 结果存入list集合\n",
    "- 返回list集合"
   ]
  }
 ],
 "metadata": {
  "language_info": {
   "name": "python"
  }
 },
 "nbformat": 4,
 "nbformat_minor": 2
}
