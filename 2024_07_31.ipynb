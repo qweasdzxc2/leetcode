{
 "cells": [
  {
   "cell_type": "markdown",
   "metadata": {},
   "source": [
    "232 用栈实现队列\n",
    "===\n",
    "请你仅使用两个栈实现先入先出队列。队列应当支持一般队列支持的所有操作（push、pop、peek、empty）：\n",
    "\n",
    "实现 MyQueue 类：\n",
    "\n",
    "void push(int x) 将元素 x 推到队列的末尾\n",
    "int pop() 从队列的开头移除并返回元素\n",
    "int peek() 返回队列开头的元素\n",
    "boolean empty() 如果队列为空，返回 true ；否则，返回 false\n",
    "说明：\n",
    "\n",
    "你 只能 使用标准的栈操作 —— 也就是只有 push to top, peek/pop from top, size, 和 is empty 操作是合法的。\n",
    "你所使用的语言也许不支持栈。你可以使用 list 或者 deque（双端队列）来模拟一个栈，只要是标准的栈操作即可。\n",
    "\n",
    "题解\n",
    "---\n",
    "- 使用双栈进行模拟，输入栈stackIn和输出栈stackOut\n",
    "- 初始化：对双栈进行初始化\n",
    "- 队尾加入元素：使用栈的内置函数push()存入stackIn栈\n",
    "- 获取队头元素：\n",
    "    - 判断当前输出栈stackOut是否为空\n",
    "    - 是则将输入栈stackIn的元素倒序存入stackOut\n",
    "    - 使用peek()获取stackOut的栈顶元素\n",
    "- 队头元素出队列\n",
    "    - 判断当前输出栈stackOut是否为空\n",
    "    - 是则将输入栈stackIn的元素倒序存入stackOut\n",
    "    - 使用pop()取出stackOut的栈顶元素\n",
    "- 队列判空\n",
    "    - 当输入栈stackIn和输出栈stackOut都为空，则判定队列为空"
   ]
  },
  {
   "cell_type": "markdown",
   "metadata": {},
   "source": [
    "225 用队列实现栈\n",
    "===\n",
    "请你仅使用两个队列实现一个后入先出（LIFO）的栈，并支持普通栈的全部四种操作（push、top、pop 和 empty）。\n",
    "\n",
    "实现 MyStack 类：\n",
    "\n",
    "void push(int x) 将元素 x 压入栈顶。\n",
    "int pop() 移除并返回栈顶元素。\n",
    "int top() 返回栈顶元素。\n",
    "boolean empty() 如果栈是空的，返回 true ；否则，返回 false 。\n",
    " \n",
    "\n",
    "注意：\n",
    "\n",
    "你只能使用队列的标准操作 —— 也就是 push to back、peek/pop from front、size 和 is empty 这些操作。\n",
    "你所使用的语言也许不支持队列。 你可以使用 list （列表）或者 deque（双端队列）来模拟一个队列 , 只要是标准的队列操作即可。\n",
    "\n",
    "题解\n",
    "---\n",
    "- 使用单队列即可，以Queue类实现的队列为例\n",
    "- 初始化：对队列进行初始化\n",
    "- 移除栈顶元素：\n",
    "    - 使用size()函数计算队列长度\n",
    "    - 从队头开始遍历队列\n",
    "    - 依次将遍历结果添加到队尾\n",
    "    - 遍历到最后一个元素时返回该元素且不添加\n",
    "- 返回栈顶元素\n",
    "    - 同移除\n",
    "    - 到最后一个元素时声明变量进行保存\n",
    "    - 返回保存的值，该元素正常添加回队尾\n",
    "- 栈判空：判断队列是否为空"
   ]
  }
 ],
 "metadata": {
  "language_info": {
   "name": "python"
  }
 },
 "nbformat": 4,
 "nbformat_minor": 2
}
