{
 "cells": [
  {
   "cell_type": "markdown",
   "metadata": {},
   "source": [
    "26 删除有序数组重复元素\n",
    "====\n",
    "- 给你一个 非严格递增排列 的数组 nums ，请你 原地 删除重复出现的元素，使每个元素 只出现一次 ，返回删除后数组的新长度。元素的 相对顺序 应该保持 一致 。然后返回 nums 中唯一元素的个数。\n",
    "- 考虑 nums 的唯一元素的数量为 k ，你需要做以下事情确保你的题解可以被通过：\n",
    "- 更改数组 nums ，使 nums 的前 k 个元素包含唯一元素，并按照它们最初在 nums 中出现的顺序排列。nums 的其余元素与 nums 的大小不重要。\n",
    "- 返回 k 。\n",
    "\n",
    "题解\n",
    "----\n",
    "- 双指针解法，使用low和height两个指针并赋初始值为1\n",
    "- 循环条件为height的值小于nums数组的值\n",
    "- 条件判断为nums[height-1] != nums[height]，则赋值给nums[low]\n",
    "- 执行low++和height++\n",
    "- 对nums长度为0时特殊处理返回0\n",
    "- 返回low的值即为新数组的长度"
   ]
  },
  {
   "cell_type": "markdown",
   "metadata": {},
   "source": [
    "283 移动零\n",
    "===\n",
    "- 给定一个数组 nums，编写一个函数将所有 0 移动到数组的末尾，同时保持非零元素的相对顺序。\n",
    "- 请注意 ，必须在不复制数组的情况下原地对数组进行操作。\n",
    "\n",
    "题解\n",
    "---\n",
    "- 双指针解法，使用low和height两个指针并赋初值为0\n",
    "- 循环条件为height的值小于数组长度\n",
    "- 条件判定为nums[height] != 0,则赋值给nums[low]\n",
    "- 当height遍历完数组后，将数组剩余位置全部置为0"
   ]
  },
  {
   "cell_type": "markdown",
   "metadata": {},
   "source": [
    "485 最大连续1的个数\n",
    "===\n",
    "- 给定一个二进制数组 nums ， 计算其中最大连续 1 的个数。\n",
    "\n",
    "题解\n",
    "---\n",
    "- 使用比较取最大值的方法\n",
    "- 定义存储最大连续个数变量maxCount和计算连续个数变量count\n",
    "- 遍历数组nums，当nums的元素等于1时则count++\n",
    "- 当nums的元素不等于1时比较count和记录的maxCount的大小并使用较大的那一个更新maxCount\n",
    "- 当遍历完成时，再次更新maxCount确保不出现当最后一组连续1最长时返回结果错误的问题\n",
    "- 返回maxCount即为最大连续1个数"
   ]
  },
  {
   "cell_type": "markdown",
   "metadata": {},
   "source": [
    "27 移除元素\n",
    "===\n",
    "- 给你一个数组 nums 和一个值 val，你需要 原地 移除所有数值等于 val 的元素。元素的顺序可能发生改变。然后返回 nums 中与 val 不同的元素的数量。\n",
    "- 假设 nums 中不等于 val 的元素数量为 k，要通过此题，您需要执行以下操作：\n",
    "- 更改 nums 数组，使 nums 的前 k 个元素包含不等于 val 的元素。nums 的其余元素和 nums 的大小并不重要。\n",
    "- 返回 k。\n",
    "\n",
    "题解1 一般双指针\n",
    "---\n",
    "- 使用双指针解法，定义low和height两个指针，赋初始值为0\n",
    "- 遍历nums数组，height指向nums数组的下一个位置\n",
    "- 条件判断当height指向的元素不等于val时，移动low使它指向这个元素，即更新了数组nums的前low+1个元素\n",
    "- 通过height不断向后移动遍历整个nums数组\n",
    "- 由于评测机使用的是数组nums的前k个元素进行验证，返回low的值即可\n",
    "\n",
    "题解2 双指针优化\n",
    "---\n",
    "- 定义双指针left=0，right=nums数组的长度-1，即left指向数组首元素，right指向数组末元素\n",
    "- 遍历nums数组，循环结束条件为left > right\n",
    "- 当left指向的元素等于val时，将right指向位置的元素赋值给left指向的位置，right指针左移一位\n",
    "- 如果赋值过来的元素也等于val，则继续将移动后的right指针指向位置的元素赋值给left，直到left位置的元素值不为val\n",
    "- 当left位置的值不为val时，left向右移动一位\n",
    "- 由于评测机使用的是数组nums的前k个元素进行验证，返回left的值即可"
   ]
  }
 ],
 "metadata": {
  "language_info": {
   "name": "python"
  }
 },
 "nbformat": 4,
 "nbformat_minor": 2
}
