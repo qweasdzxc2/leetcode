{
 "cells": [
  {
   "cell_type": "markdown",
   "metadata": {},
   "source": [
    "米哈游20240803笔试：程序通卷1\n",
    "==="
   ]
  },
  {
   "cell_type": "markdown",
   "metadata": {},
   "source": [
    "第一题\n",
    "===\n",
    "第一行读入数组长度length，第二行读入数组array，将数组中相邻两个数的最大乘积记作数组价值，必须执行一次相邻两个元素的交换，使得获得最大的数组价值\n",
    "\n",
    "题解\n",
    "---\n",
    "- 遍历数组，注意乘法计算容易出现溢出，数据类型使用long而不是int\n",
    "- 遍历范围是[0, length-1]\n",
    "- 每遍历到一个数就判断是否能够与前一个数作为一组对换，是否能够与后一个数作为一组对换\n",
    "- 变量记录最大值\n",
    "- 遍历完成之后输出变量存储的最大值即可"
   ]
  }
 ],
 "metadata": {
  "language_info": {
   "name": "python"
  }
 },
 "nbformat": 4,
 "nbformat_minor": 2
}
