{
 "cells": [
  {
   "cell_type": "markdown",
   "metadata": {},
   "source": [
    "提交\n",
    "===\n",
    "git commit "
   ]
  },
  {
   "cell_type": "markdown",
   "metadata": {},
   "source": [
    "新建分支\n",
    "===\n",
    "git branch <新分支名称>"
   ]
  },
  {
   "cell_type": "markdown",
   "metadata": {},
   "source": [
    "切换分支\n",
    "===\n",
    "git checkout <分支名称> \n",
    "\n",
    "git switch <分支名称>"
   ]
  },
  {
   "cell_type": "markdown",
   "metadata": {},
   "source": [
    "合并分支\n",
    "===\n",
    "git merge <要合并的分支名称>\n",
    "\n",
    "git rebase <要合并的分支名称> Rebase 实际上就是取出一系列的提交记录，“复制”它们，然后在另外一个地方逐个的放下去。"
   ]
  },
  {
   "cell_type": "markdown",
   "metadata": {},
   "source": [
    "在git提交树上移动\n",
    "===\n",
    "git switch <目标分支名称>\n",
    "或\n",
    "git checkout <目标分支名称>"
   ]
  },
  {
   "cell_type": "markdown",
   "metadata": {},
   "source": [
    "相对引用\n",
    "===\n",
    "例：\n",
    "\n",
    "git switch c3; (分离HEAD)\n",
    "\n",
    "git switch HEAD^; (让HEAD指向HEAD的parent节点)\n",
    "\n",
    "git switch HEAD~2; (让HEAD指向HEAD的parent的parent节点)"
   ]
  },
  {
   "cell_type": "markdown",
   "metadata": {},
   "source": [
    "强制修改分支位置\n",
    "===\n",
    "例：\n",
    "\n",
    "git branch -f main HEAD~3; (将 main 分支强制指向 HEAD 的第 3 级 parent 提交)"
   ]
  },
  {
   "cell_type": "markdown",
   "metadata": {},
   "source": [
    "撤销变更\n",
    "===\n",
    "git reset <历史分支名称>; (用于本地项目，通过把分支记录回退几个提交记录来实现撤销改动)\n",
    "\n",
    "git revert <历史分支名称>; (用于远程合作项目，会在当前分支之后新建一个与历史分支相同的分支)"
   ]
  },
  {
   "cell_type": "markdown",
   "metadata": {},
   "source": [
    "将提交复制到当前位置下\n",
    "===\n",
    "git cherry-pick <提交号>\n",
    "- 例： git cherry-pick c3 c4 c7 "
   ]
  },
  {
   "cell_type": "markdown",
   "metadata": {},
   "source": [
    "交互式的rebase\n",
    "===\n"
   ]
  }
 ],
 "metadata": {
  "language_info": {
   "name": "python"
  }
 },
 "nbformat": 4,
 "nbformat_minor": 2
}
